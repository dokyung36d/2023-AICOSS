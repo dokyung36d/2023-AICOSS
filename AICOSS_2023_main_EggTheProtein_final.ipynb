{
 "cells": [
  {
   "cell_type": "code",
   "execution_count": 1,
   "id": "b7b40c63",
   "metadata": {},
   "outputs": [],
   "source": [
    "import random\n",
    "import pandas as pd\n",
    "import numpy as np\n",
    "import os\n",
    "from PIL import Image\n",
    "\n",
    "import torch\n",
    "import torch.nn as nn\n",
    "import torch.nn.functional as F\n",
    "from torch.utils.data import Dataset, DataLoader\n",
    "import torch.optim as optim\n",
    "\n",
    "from torchvision import transforms\n",
    "import torchvision.models as models\n",
    "\n",
    "from tqdm.auto import tqdm\n",
    "import argparse\n",
    "import warnings\n",
    "from timm.models import create_model\n",
    "warnings.filterwarnings(action='ignore') "
   ]
  },
  {
   "cell_type": "code",
   "execution_count": 2,
   "id": "8c4a4997",
   "metadata": {},
   "outputs": [],
   "source": [
    "# gpu 자원이 활용 가능하다면 device에 gpu를 할당\n",
    "device = torch.device('cuda') if torch.cuda.is_available() else torch.device('cpu')"
   ]
  },
  {
   "cell_type": "code",
   "execution_count": 3,
   "id": "d9de4928",
   "metadata": {},
   "outputs": [],
   "source": [
    "CFG = {\n",
    "    'IMG_SIZE':224,\n",
    "    'EPOCHS':7,\n",
    "    'LEARNING_RATE':3e-4,\n",
    "    'BATCH_SIZE':72,\n",
    "    'SEED':41\n",
    "}"
   ]
  },
  {
   "cell_type": "code",
   "execution_count": 4,
   "id": "25159e96",
   "metadata": {},
   "outputs": [],
   "source": [
    "def seed_everything(seed):\n",
    "    random.seed(seed)\n",
    "    os.environ['PYTHONHASHSEED'] = str(seed)\n",
    "    np.random.seed(seed)\n",
    "    torch.manual_seed(seed)\n",
    "    torch.cuda.manual_seed(seed)\n",
    "    torch.backends.cudnn.deterministic = True\n",
    "    torch.backends.cudnn.benchmark = True\n",
    "\n",
    "seed_everything(CFG['SEED']) # Seed 고정"
   ]
  },
  {
   "cell_type": "code",
   "execution_count": 5,
   "id": "65dcb512",
   "metadata": {},
   "outputs": [
    {
     "data": {
      "text/html": [
       "<div>\n",
       "<style scoped>\n",
       "    .dataframe tbody tr th:only-of-type {\n",
       "        vertical-align: middle;\n",
       "    }\n",
       "\n",
       "    .dataframe tbody tr th {\n",
       "        vertical-align: top;\n",
       "    }\n",
       "\n",
       "    .dataframe thead th {\n",
       "        text-align: right;\n",
       "    }\n",
       "</style>\n",
       "<table border=\"1\" class=\"dataframe\">\n",
       "  <thead>\n",
       "    <tr style=\"text-align: right;\">\n",
       "      <th></th>\n",
       "      <th>img_id</th>\n",
       "      <th>img_path</th>\n",
       "      <th>airplane</th>\n",
       "      <th>airport</th>\n",
       "      <th>bare soil</th>\n",
       "      <th>baseball diamond</th>\n",
       "      <th>basketball court</th>\n",
       "      <th>beach</th>\n",
       "      <th>bridge</th>\n",
       "      <th>buildings</th>\n",
       "      <th>...</th>\n",
       "      <th>tanks</th>\n",
       "      <th>tennis court</th>\n",
       "      <th>terrace</th>\n",
       "      <th>track</th>\n",
       "      <th>trail</th>\n",
       "      <th>transmission tower</th>\n",
       "      <th>trees</th>\n",
       "      <th>water</th>\n",
       "      <th>wetland</th>\n",
       "      <th>wind turbine</th>\n",
       "    </tr>\n",
       "  </thead>\n",
       "  <tbody>\n",
       "    <tr>\n",
       "      <th>0</th>\n",
       "      <td>000L8TYE</td>\n",
       "      <td>./data/./train/000L8TYE.jpg</td>\n",
       "      <td>0</td>\n",
       "      <td>0</td>\n",
       "      <td>0</td>\n",
       "      <td>0</td>\n",
       "      <td>0</td>\n",
       "      <td>0</td>\n",
       "      <td>0</td>\n",
       "      <td>1</td>\n",
       "      <td>...</td>\n",
       "      <td>0</td>\n",
       "      <td>0</td>\n",
       "      <td>0</td>\n",
       "      <td>0</td>\n",
       "      <td>0</td>\n",
       "      <td>0</td>\n",
       "      <td>1</td>\n",
       "      <td>1</td>\n",
       "      <td>0</td>\n",
       "      <td>0</td>\n",
       "    </tr>\n",
       "    <tr>\n",
       "      <th>1</th>\n",
       "      <td>0035QTK9</td>\n",
       "      <td>./data/./train/0035QTK9.jpg</td>\n",
       "      <td>0</td>\n",
       "      <td>0</td>\n",
       "      <td>1</td>\n",
       "      <td>0</td>\n",
       "      <td>0</td>\n",
       "      <td>0</td>\n",
       "      <td>0</td>\n",
       "      <td>1</td>\n",
       "      <td>...</td>\n",
       "      <td>0</td>\n",
       "      <td>0</td>\n",
       "      <td>0</td>\n",
       "      <td>0</td>\n",
       "      <td>0</td>\n",
       "      <td>0</td>\n",
       "      <td>1</td>\n",
       "      <td>0</td>\n",
       "      <td>0</td>\n",
       "      <td>0</td>\n",
       "    </tr>\n",
       "    <tr>\n",
       "      <th>2</th>\n",
       "      <td>00470HEH</td>\n",
       "      <td>./data/./train/00470HEH.jpg</td>\n",
       "      <td>0</td>\n",
       "      <td>0</td>\n",
       "      <td>0</td>\n",
       "      <td>0</td>\n",
       "      <td>0</td>\n",
       "      <td>0</td>\n",
       "      <td>0</td>\n",
       "      <td>1</td>\n",
       "      <td>...</td>\n",
       "      <td>0</td>\n",
       "      <td>0</td>\n",
       "      <td>0</td>\n",
       "      <td>0</td>\n",
       "      <td>0</td>\n",
       "      <td>0</td>\n",
       "      <td>1</td>\n",
       "      <td>0</td>\n",
       "      <td>0</td>\n",
       "      <td>0</td>\n",
       "    </tr>\n",
       "    <tr>\n",
       "      <th>3</th>\n",
       "      <td>004CCB2Q</td>\n",
       "      <td>./data/./train/004CCB2Q.jpg</td>\n",
       "      <td>0</td>\n",
       "      <td>0</td>\n",
       "      <td>1</td>\n",
       "      <td>0</td>\n",
       "      <td>0</td>\n",
       "      <td>0</td>\n",
       "      <td>0</td>\n",
       "      <td>0</td>\n",
       "      <td>...</td>\n",
       "      <td>0</td>\n",
       "      <td>0</td>\n",
       "      <td>0</td>\n",
       "      <td>0</td>\n",
       "      <td>0</td>\n",
       "      <td>0</td>\n",
       "      <td>1</td>\n",
       "      <td>1</td>\n",
       "      <td>0</td>\n",
       "      <td>0</td>\n",
       "    </tr>\n",
       "    <tr>\n",
       "      <th>4</th>\n",
       "      <td>005AY4ES</td>\n",
       "      <td>./data/./train/005AY4ES.jpg</td>\n",
       "      <td>0</td>\n",
       "      <td>0</td>\n",
       "      <td>1</td>\n",
       "      <td>0</td>\n",
       "      <td>0</td>\n",
       "      <td>0</td>\n",
       "      <td>0</td>\n",
       "      <td>0</td>\n",
       "      <td>...</td>\n",
       "      <td>0</td>\n",
       "      <td>0</td>\n",
       "      <td>0</td>\n",
       "      <td>0</td>\n",
       "      <td>1</td>\n",
       "      <td>0</td>\n",
       "      <td>1</td>\n",
       "      <td>1</td>\n",
       "      <td>0</td>\n",
       "      <td>0</td>\n",
       "    </tr>\n",
       "  </tbody>\n",
       "</table>\n",
       "<p>5 rows × 62 columns</p>\n",
       "</div>"
      ],
      "text/plain": [
       "     img_id                     img_path  airplane  airport  bare soil  \\\n",
       "0  000L8TYE  ./data/./train/000L8TYE.jpg         0        0          0   \n",
       "1  0035QTK9  ./data/./train/0035QTK9.jpg         0        0          1   \n",
       "2  00470HEH  ./data/./train/00470HEH.jpg         0        0          0   \n",
       "3  004CCB2Q  ./data/./train/004CCB2Q.jpg         0        0          1   \n",
       "4  005AY4ES  ./data/./train/005AY4ES.jpg         0        0          1   \n",
       "\n",
       "   baseball diamond  basketball court  beach  bridge  buildings  ...  tanks  \\\n",
       "0                 0                 0      0       0          1  ...      0   \n",
       "1                 0                 0      0       0          1  ...      0   \n",
       "2                 0                 0      0       0          1  ...      0   \n",
       "3                 0                 0      0       0          0  ...      0   \n",
       "4                 0                 0      0       0          0  ...      0   \n",
       "\n",
       "   tennis court  terrace  track  trail  transmission tower  trees  water  \\\n",
       "0             0        0      0      0                   0      1      1   \n",
       "1             0        0      0      0                   0      1      0   \n",
       "2             0        0      0      0                   0      1      0   \n",
       "3             0        0      0      0                   0      1      1   \n",
       "4             0        0      0      1                   0      1      1   \n",
       "\n",
       "   wetland  wind turbine  \n",
       "0        0             0  \n",
       "1        0             0  \n",
       "2        0             0  \n",
       "3        0             0  \n",
       "4        0             0  \n",
       "\n",
       "[5 rows x 62 columns]"
      ]
     },
     "execution_count": 5,
     "metadata": {},
     "output_type": "execute_result"
    }
   ],
   "source": [
    "df = pd.read_csv('./data/train.csv')\n",
    "df['img_path'] = './data/' + df['img_path']\n",
    "df.head()"
   ]
  },
  {
   "cell_type": "code",
   "execution_count": 6,
   "id": "4d9045f2",
   "metadata": {},
   "outputs": [
    {
     "data": {
      "text/plain": [
       "((65489, 62), (7, 62))"
      ]
     },
     "execution_count": 6,
     "metadata": {},
     "output_type": "execute_result"
    }
   ],
   "source": [
    "df = df.sample(frac=1)\n",
    "train_len = int(len(df) * 0.9999)\n",
    "train_df = df[:train_len]\n",
    "val_df = df[train_len:]\n",
    "(train_df.shape, val_df.shape)"
   ]
  },
  {
   "cell_type": "code",
   "execution_count": 7,
   "id": "35e08a96",
   "metadata": {},
   "outputs": [],
   "source": [
    "def get_labels(df):\n",
    "    return df.iloc[:,2:].values\n",
    "\n",
    "train_labels = get_labels(train_df)\n",
    "val_labels = get_labels(val_df)"
   ]
  },
  {
   "cell_type": "code",
   "execution_count": 8,
   "id": "920194c1",
   "metadata": {},
   "outputs": [
    {
     "data": {
      "text/plain": [
       "((65489, 60), (7, 60))"
      ]
     },
     "execution_count": 8,
     "metadata": {},
     "output_type": "execute_result"
    }
   ],
   "source": [
    "(train_labels.shape, val_labels.shape)"
   ]
  },
  {
   "cell_type": "code",
   "execution_count": 9,
   "id": "878c5748",
   "metadata": {},
   "outputs": [],
   "source": [
    "class CustomDataset(Dataset):\n",
    "    def __init__(self, img_path_list, label_list, transform=None):\n",
    "        self.img_path_list = img_path_list\n",
    "        self.label_list = label_list\n",
    "        self.transform = transform\n",
    "        \n",
    "    def __getitem__(self, index):\n",
    "        img_path = self.img_path_list[index]\n",
    "\n",
    "        # PIL 이미지로 불러오기\n",
    "        image = Image.open(img_path).convert(\"RGB\")\n",
    "        if self.transform is not None:\n",
    "            image = self.transform(image)\n",
    "        \n",
    "        if self.label_list is not None:\n",
    "            label = torch.tensor(self.label_list[index], dtype=torch.float32)\n",
    "            return image, label\n",
    "        else:\n",
    "            return image\n",
    "        \n",
    "    def __len__(self):\n",
    "        return len(self.img_path_list)\n",
    "train_transform = transforms.Compose([\n",
    "    transforms.ToTensor(),\n",
    "    transforms.Resize((CFG['IMG_SIZE'], CFG['IMG_SIZE'])),\n",
    "    transforms.RandomAutocontrast(),\n",
    "    transforms.ColorJitter(),\n",
    "    transforms.RandomGrayscale(),\n",
    "    transforms.RandomHorizontalFlip(p=0.5),\n",
    "    transforms.RandomVerticalFlip(p=0.5),\n",
    "    transforms.RandomCrop((192, 192)),\n",
    "    transforms.Normalize(mean=[0.485, 0.456, 0.406], std=[0.229, 0.224, 0.225]),\n",
    "    transforms.RandomErasing(p=0.75)\n",
    "])\n",
    "\n",
    "test_transform = transforms.Compose([\n",
    "    transforms.ToTensor(),\n",
    "    transforms.Resize((CFG['IMG_SIZE'], CFG['IMG_SIZE'])),\n",
    "    transforms.Normalize(mean=[0.485, 0.456, 0.406], std=[0.229, 0.224, 0.225])\n",
    "])\n"
   ]
  },
  {
   "cell_type": "code",
   "execution_count": 10,
   "id": "648deae4",
   "metadata": {},
   "outputs": [],
   "source": [
    "train_dataset = CustomDataset(train_df['img_path'].values, train_labels, train_transform)\n",
    "train_loader = DataLoader(train_dataset, batch_size = CFG['BATCH_SIZE'], shuffle=True, num_workers=0)\n",
    "\n",
    "val_dataset = CustomDataset(val_df['img_path'].values, val_labels, test_transform)\n",
    "val_loader = DataLoader(val_dataset, batch_size = CFG['BATCH_SIZE'], shuffle=False, num_workers=0)"
   ]
  },
  {
   "cell_type": "code",
   "execution_count": 11,
   "id": "1c17608e",
   "metadata": {},
   "outputs": [
    {
     "data": {
      "text/plain": [
       "_StoreTrueAction(option_strings=['--throughput'], dest='throughput', nargs=0, const=True, default=False, type=None, choices=None, help='test throughput', metavar=None)"
      ]
     },
     "execution_count": 11,
     "metadata": {},
     "output_type": "execute_result"
    }
   ],
   "source": [
    "config_parser = parser = argparse.ArgumentParser(description='Training Config', add_help=False)\n",
    "parser.add_argument('-c', '--config', default='', type=str, metavar='FILE',\n",
    "                    help='YAML config file specifying default arguments')\n",
    "\n",
    "\n",
    "parser = argparse.ArgumentParser(description='PyTorch ImageNet Training')\n",
    "\n",
    "# Dataset / Model parameters\n",
    "\n",
    "parser.add_argument('--dataset', '-d', metavar='NAME', default='',\n",
    "                    help='dataset type (default: ImageFolder/ImageTar if empty)')\n",
    "parser.add_argument('--train-split', metavar='NAME', default='train',\n",
    "                    help='dataset train split (default: train)')\n",
    "parser.add_argument('--val-split', metavar='NAME', default='validation',\n",
    "                    help='dataset validation split (default: validation)')\n",
    "parser.add_argument('--model', default='deit_small_patch16_224', type=str, metavar='MODEL',\n",
    "                    help='Name of model to train (default: \"countception\"')\n",
    "parser.add_argument('--pretrained', action='store_true', default=False,\n",
    "                    help='Start with pretrained version of specified network (if avail)')\n",
    "parser.add_argument('--initial-checkpoint', default='', type=str, metavar='PATH',\n",
    "                    help='Initialize model from this checkpoint (default: none)')\n",
    "parser.add_argument('--resume', default='', type=str, metavar='PATH',\n",
    "                    help='Resume full model and optimizer state from checkpoint (default: none)')\n",
    "parser.add_argument('--no-resume-opt', action='store_true', default=False,\n",
    "                    help='prevent resume of optimizer state when resuming model')\n",
    "parser.add_argument('--num-classes', type=int, default=None, metavar='N',\n",
    "                    help='number of label classes (Model default if None)')  # 1000\n",
    "parser.add_argument('--gp', default=None, type=str, metavar='POOL',\n",
    "                    help='Global pool type, one of (fast, avg, max, avgmax, avgmaxc). Model default if None.')\n",
    "parser.add_argument('--img-size', type=int, default=None, metavar='N',\n",
    "                    help='Image patch size (default: None => model default)')\n",
    "parser.add_argument('--input-size', default=None, nargs=3, type=int,\n",
    "                    metavar='N N N', help='Input all image dimensions (d h w, e.g. --input-size 3 224 224), uses model default if empty')\n",
    "parser.add_argument('--crop-pct', default=None, type=float,\n",
    "                    metavar='N', help='Input image center crop percent (for validation only)')  # 0.9\n",
    "parser.add_argument('--mean', type=float, nargs='+', default=None, metavar='MEAN',\n",
    "                    help='Override mean pixel value of dataset')\n",
    "parser.add_argument('--std', type=float, nargs='+', default=None, metavar='STD',\n",
    "                    help='Override std deviation of of dataset')\n",
    "parser.add_argument('--interpolation', default='', type=str, metavar='NAME',\n",
    "                    help='Image resize interpolation type (overrides model)')  # bicubic\n",
    "parser.add_argument('-b', '--batch-size', type=int, default=64, metavar='N',\n",
    "                    help='input batch size for training (default: 64)')  # 128\n",
    "parser.add_argument('-vb', '--validation-batch-size-multiplier', type=int, default=1, metavar='N',\n",
    "                    help='ratio of validation batch size to training batch size (default: 1)')\n",
    "\n",
    "# Optimizer parameters\n",
    "parser.add_argument('--opt', default='adamw', type=str, metavar='OPTIMIZER',\n",
    "                    help='Optimizer (default: \"adamw\"')\n",
    "parser.add_argument('--opt-eps', default=1e-8, type=float, metavar='EPSILON',\n",
    "                    help='Optimizer Epsilon (default: 1e-8)')\n",
    "parser.add_argument('--opt-betas', default=None, type=float, nargs='+', metavar='BETA',\n",
    "                    help='Optimizer Betas (default: None, use opt default)')\n",
    "parser.add_argument('--momentum', type=float, default=0.9, metavar='M',\n",
    "                    help='Optimizer momentum (default: 0.9)')\n",
    "parser.add_argument('--weight-decay', type=float, default=0.05,\n",
    "                    help='weight decay (default: 0.05)')\n",
    "parser.add_argument('--clip-grad', type=float, default=None, metavar='NORM',\n",
    "                    help='Clip gradient norm (default: None, no clipping)')\n",
    "parser.add_argument('--clip-mode', type=str, default='norm',\n",
    "                    help='Gradient clipping mode. One of (\"norm\", \"value\", \"agc\")')\n",
    "\n",
    "# Learning rate schedule parameters\n",
    "parser.add_argument('--sched', default='cosine', type=str, metavar='SCHEDULER',\n",
    "                    help='LR scheduler (default: \"cosine\"')\n",
    "parser.add_argument('--lr', type=float, default=5e-4, metavar='LR',\n",
    "                    help='learning rate (default: 5e-4)')\n",
    "parser.add_argument('--lr-noise', type=float, nargs='+', default=None, metavar='pct, pct',\n",
    "                    help='learning rate noise on/off epoch percentages')\n",
    "parser.add_argument('--lr-noise-pct', type=float, default=0.67, metavar='PERCENT',\n",
    "                    help='learning rate noise limit percent (default: 0.67)')\n",
    "parser.add_argument('--lr-noise-std', type=float, default=1.0, metavar='STDDEV',\n",
    "                    help='learning rate noise std-dev (default: 1.0)')\n",
    "parser.add_argument('--lr-cycle-mul', type=float, default=1.0, metavar='MULT',\n",
    "                    help='learning rate cycle len multiplier (default: 1.0)')\n",
    "parser.add_argument('--lr-cycle-limit', type=int, default=1, metavar='N',\n",
    "                    help='learning rate cycle limit')\n",
    "parser.add_argument('--warmup-lr', type=float, default=1e-6, metavar='LR',\n",
    "                    help='warmup learning rate (default: 1e-6)')\n",
    "parser.add_argument('--min-lr', type=float, default=1e-5, metavar='LR',\n",
    "                    help='lower lr bound for cyclic schedulers that hit 0 (1e-5)')\n",
    "\n",
    "# Epoch schedule parameters\n",
    "parser.add_argument('--epochs', type=int, default=300, metavar='N',\n",
    "                    help='number of epochs to train (default: 2)')\n",
    "parser.add_argument('--epoch-repeats', type=float, default=0., metavar='N',\n",
    "                    help='epoch repeat multiplier (number of times to repeat dataset epoch per train epoch).')\n",
    "parser.add_argument('--start-epoch', default=None, type=int, metavar='N',\n",
    "                    help='manual epoch number (useful on restarts)')\n",
    "parser.add_argument('--decay-epochs', type=float, default=30, metavar='N',\n",
    "                    help='epoch interval to decay LR')\n",
    "parser.add_argument('--warmup-epochs', type=int, default=5, metavar='N',\n",
    "                    help='epochs to warmup LR, if scheduler supports')\n",
    "parser.add_argument('--cooldown-epochs', type=int, default=10, metavar='N',\n",
    "                    help='epochs to cooldown LR at min_lr, after cyclic schedule ends')\n",
    "parser.add_argument('--patience-epochs', type=int, default=10, metavar='N',\n",
    "                    help='patience epochs for Plateau LR scheduler (default: 10')\n",
    "parser.add_argument('--decay-rate', '--dr', type=float, default=0.1, metavar='RATE',\n",
    "                    help='LR decay rate (default: 0.1)')\n",
    "\n",
    "# Augmentation & regularization parameters\n",
    "parser.add_argument('--no-aug', action='store_true', default=False,\n",
    "                    help='Disable all training augmentation, override other train aug args')\n",
    "parser.add_argument('--scale', type=float, nargs='+', default=[0.08, 1.0], metavar='PCT',\n",
    "                    help='Random resize scale (default: 0.08 1.0)')\n",
    "parser.add_argument('--ratio', type=float, nargs='+', default=[3./4., 4./3.], metavar='RATIO',\n",
    "                    help='Random resize aspect ratio (default: 0.75 1.33)')\n",
    "parser.add_argument('--hflip', type=float, default=0.5,\n",
    "                    help='Horizontal flip training aug probability')\n",
    "parser.add_argument('--vflip', type=float, default=0.,\n",
    "                    help='Vertical flip training aug probability')\n",
    "parser.add_argument('--color-jitter', type=float, default=0.4, metavar='PCT',\n",
    "                    help='Color jitter factor (default: 0.4)')\n",
    "parser.add_argument('--aa', type=str, default='rand-m9-mstd0.5-inc1', metavar='NAME',\n",
    "                    help='Use AutoAugment policy. \"v0\" or \"original\". (default: rand-m9-mstd0.5-inc1)'),\n",
    "parser.add_argument('--aug-splits', type=int, default=0,\n",
    "                    help='Number of augmentation splits (default: 0, valid: 0 or >=2)')\n",
    "parser.add_argument('--jsd', action='store_true', default=False,\n",
    "                    help='Enable Jensen-Shannon Divergence + CE loss. Use with `--aug-splits`.')\n",
    "\n",
    "parser.add_argument('--smoothing', type=float, default=0.1,\n",
    "                    help='Label smoothing (default: 0.1)')\n",
    "parser.add_argument('--train-interpolation', type=str, default='bicubic',\n",
    "                    help='Training interpolation (random, bilinear, bicubic default: \"bicubic\")')\n",
    "parser.add_argument('--repeated-aug', action='store_true', default=False, dest='repeated_aug')\n",
    "\n",
    "# Random Erase params\n",
    "parser.add_argument('--reprob', type=float, default=0.25, metavar='PCT',\n",
    "                    help='Random erase prob (default: 0.25)')\n",
    "parser.add_argument('--remode', type=str, default='pixel',\n",
    "                    help='Random erase mode (default: \"pixel\")')\n",
    "parser.add_argument('--recount', type=int, default=1,\n",
    "                    help='Random erase count (default: 1)')\n",
    "parser.add_argument('--resplit', action='store_true', default=False,\n",
    "                    help='Do not random erase first (clean) augmentation split')\n",
    "\n",
    "# Mixup params\n",
    "parser.add_argument('--mixup', type=float, default=0.8,\n",
    "                    help='mixup alpha, mixup enabled if > 0. (default: 0.8)')\n",
    "parser.add_argument('--cutmix', type=float, default=1.0,\n",
    "                    help='cutmix alpha, cutmix enabled if > 0. (default: 1.0)')\n",
    "parser.add_argument('--cutmix-minmax', type=float, nargs='+', default=None,\n",
    "                    help='cutmix min/max ratio, overrides alpha and enables cutmix if set (default: None)')\n",
    "parser.add_argument('--mixup-prob', type=float, default=1.0,\n",
    "                    help='Probability of performing mixup or cutmix when either/both is enabled')\n",
    "parser.add_argument('--mixup-switch-prob', type=float, default=0.5,\n",
    "                    help='Probability of switching to cutmix when both mixup and cutmix enabled')\n",
    "parser.add_argument('--mixup-mode', type=str, default='batch',\n",
    "                    help='How to apply mixup/cutmix params. Per \"batch\", \"pair\", or \"elem\"')\n",
    "parser.add_argument('--mixup-off-epoch', default=0, type=int, metavar='N',\n",
    "                    help='Turn off mixup after this epoch, disabled if 0 (default: 0)')\n",
    "\n",
    "# Dropout\n",
    "parser.add_argument('--drop', type=float, default=0.0, metavar='PCT',\n",
    "                    help='Dropout rate (default: 0.)')\n",
    "parser.add_argument('--drop-connect', type=float, default=None, metavar='PCT',\n",
    "                    help='Drop connect rate, DEPRECATED, use drop-path (default: None)')\n",
    "parser.add_argument('--drop-path', type=float, default=0.1, metavar='PCT',\n",
    "                    help='Drop path rate (default: 0.1)')  # stochastic depth 0.1\n",
    "parser.add_argument('--drop-block', type=float, default=None, metavar='PCT',\n",
    "                    help='Drop block rate (default: None)')\n",
    "\n",
    "# Batch norm parameters (only works with gen_efficientnet based models currently)\n",
    "parser.add_argument('--bn-tf', action='store_true', default=False,\n",
    "                    help='Use Tensorflow BatchNorm defaults for models that support it (default: False)')\n",
    "parser.add_argument('--bn-momentum', type=float, default=None,\n",
    "                    help='BatchNorm momentum override (if not None)')\n",
    "parser.add_argument('--bn-eps', type=float, default=None,\n",
    "                    help='BatchNorm epsilon override (if not None)')\n",
    "parser.add_argument('--sync-bn', action='store_true',\n",
    "                    help='Enable NVIDIA Apex or Torch synchronized BatchNorm.')\n",
    "parser.add_argument('--dist-bn', type=str, default='',\n",
    "                    help='Distribute BatchNorm stats between nodes after each epoch (\"broadcast\", \"reduce\", or \"\")')\n",
    "parser.add_argument('--split-bn', action='store_true',\n",
    "                    help='Enable separate BN layers per augmentation split.')\n",
    "\n",
    "# Model Exponential Moving Average\n",
    "parser.add_argument('--model-ema', action='store_true', default=False,\n",
    "                    help='Enable tracking moving average of model weights')\n",
    "parser.add_argument('--model-ema-force-cpu', action='store_true', default=False,\n",
    "                    help='Force ema to be tracked on CPU, rank=0 node only. Disables EMA validation.')\n",
    "parser.add_argument('--model-ema-decay', type=float, default=0.99996,\n",
    "                    help='decay factor for model weights moving average (default: 0.99996)')\n",
    "\n",
    "# Misc\n",
    "parser.add_argument('--seed', type=int, default=42, metavar='S',\n",
    "                    help='random seed (default: 42)')\n",
    "parser.add_argument('--log-interval', type=int, default=50, metavar='N',\n",
    "                    help='how many batches to wait before logging training status')\n",
    "parser.add_argument('--recovery-interval', type=int, default=0, metavar='N',\n",
    "                    help='how many batches to wait before writing recovery checkpoint')\n",
    "parser.add_argument('--checkpoint-hist', type=int, default=10, metavar='N',\n",
    "                    help='number of checkpoints to keep (default: 10)')\n",
    "parser.add_argument('-j', '--workers', type=int, default=10, metavar='N',\n",
    "                    help='how many training processes to use (default: 1)')\n",
    "parser.add_argument('--save-images', action='store_true', default=False,\n",
    "                    help='save images of input bathes every log interval for debugging')\n",
    "parser.add_argument('--amp', action='store_true', default=False,\n",
    "                    help='use NVIDIA Apex AMP or Native AMP for mixed precision training')\n",
    "parser.add_argument('--apex-amp', action='store_true', default=False,\n",
    "                    help='Use NVIDIA Apex AMP mixed precision')\n",
    "parser.add_argument('--native-amp', action='store_true', default=False,\n",
    "                    help='Use Native Torch AMP mixed precision')\n",
    "parser.add_argument('--channels-last', action='store_true', default=False,\n",
    "                    help='Use channels_last memory layout')\n",
    "parser.add_argument('--pin-mem', action='store_true', default=True,\n",
    "                    help='Pin CPU memory in DataLoader for more efficient (sometimes) transfer to GPU.')\n",
    "parser.add_argument('--no-prefetcher', action='store_true', default=False,\n",
    "                    help='disable fast prefetcher')\n",
    "parser.add_argument('--output', default='', type=str, metavar='PATH',\n",
    "                    help='path to output folder (default: none, current dir)')\n",
    "parser.add_argument('--experiment', default='', type=str, metavar='NAME',\n",
    "                    help='name of train experiment, name of sub-folder for output')\n",
    "parser.add_argument('--eval-metric', default='top1', type=str, metavar='EVAL_METRIC',\n",
    "                    help='Best metric (default: \"top1\"')\n",
    "parser.add_argument('--tta', type=int, default=0, metavar='N',\n",
    "                    help='Test/inference time augmentation (oversampling) factor. 0=None (default: 0)')\n",
    "parser.add_argument(\"--local_rank\", default=0, type=int)\n",
    "parser.add_argument('--use-multi-epochs-loader', action='store_true', default=False,\n",
    "                    help='use the multi-epochs-loader to save time at the beginning of every epoch')\n",
    "parser.add_argument('--torchscript', dest='torchscript', action='store_true',\n",
    "                    help='convert model torchscript for inference')\n",
    "parser.add_argument('--log-wandb', action='store_true', default=False,\n",
    "                    help='log training and validation metrics to wandb')\n",
    "parser.add_argument('--throughput', action='store_true', default=False,\n",
    "                    help='test throughput')"
   ]
  },
  {
   "cell_type": "code",
   "execution_count": 12,
   "id": "429c017b",
   "metadata": {},
   "outputs": [
    {
     "name": "stdout",
     "output_type": "stream",
     "text": [
      "{'patch_size': 4, 'window_size': 7, 'embed_dims': (128, 256, 512, 1024), 'num_heads': (4, 8, 16, 32), 'depths': (1, 1, 9, 1), 'mlp_ratio': 4.0, 'overlapped_patch': False, 'num_classes': 1000, 'drop_rate': 0.1, 'drop_path_rate': 0.1}\n"
     ]
    }
   ],
   "source": [
    "args = parser.parse_args(args=[])\n",
    "\n",
    "model = create_model(\n",
    "    'DaViT_base',\n",
    "    pretrained=False,\n",
    "    num_classes=1000,\n",
    "    drop_rate=0.1,\n",
    "    drop_connect_rate=args.drop_connect,  # DEPRECATED, use drop_path\n",
    "    drop_path_rate=args.drop_path,\n",
    "    drop_block_rate=args.drop_block,\n",
    "    global_pool=args.gp,\n",
    "    bn_tf=args.bn_tf,\n",
    "    bn_momentum=args.bn_momentum,\n",
    "    bn_eps=args.bn_eps,\n",
    "    scriptable=args.torchscript,\n",
    "    checkpoint_path=args.initial_checkpoint)"
   ]
  },
  {
   "cell_type": "code",
   "execution_count": 13,
   "id": "61e00918",
   "metadata": {},
   "outputs": [],
   "source": [
    "checkpoint_path = 'model_best_big.pth.tar'\n",
    "checkpoint = torch.load(checkpoint_path)\n",
    "model.load_state_dict(checkpoint['state_dict'])\n",
    "model.head = nn.Linear(1024, 60)\n"
   ]
  },
  {
   "cell_type": "code",
   "execution_count": 14,
   "id": "34ccbc48",
   "metadata": {},
   "outputs": [],
   "source": [
    "def train(model, optimizer, scheduler, train_loader, val_loader, device, epoch):\n",
    "    model.to(device)\n",
    "    criterion = nn.BCELoss().to(device)\n",
    "    \n",
    "    best_val_loss = float('inf') \n",
    "    best_model = None\n",
    "    \n",
    "    for epoch in range(1, epoch+1):\n",
    "        model.train()\n",
    "        train_loss = []\n",
    "        for imgs, labels in tqdm(iter(train_loader)):\n",
    "            imgs = imgs.float().to(device)\n",
    "            labels = labels.to(device)\n",
    "            \n",
    "            optimizer.zero_grad()\n",
    "            \n",
    "            output = F.sigmoid(model(imgs))\n",
    "            loss = criterion(output, labels)\n",
    "            \n",
    "            loss.backward()\n",
    "            optimizer.step()\n",
    "            \n",
    "            train_loss.append(loss.item())\n",
    "                    \n",
    "        _val_loss = validation(model, criterion, val_loader, device)\n",
    "        _train_loss = np.mean(train_loss)\n",
    "        print(f'Epoch [{epoch}], Train Loss : [{_train_loss:.5f}] Val Loss : [{_val_loss:.5f}]')\n",
    "        \n",
    "        scheduler.step()\n",
    "            \n",
    "        if best_val_loss > _val_loss:\n",
    "            best_val_loss = _val_loss\n",
    "            best_model = model\n",
    "    \n",
    "    return best_model"
   ]
  },
  {
   "cell_type": "code",
   "execution_count": 15,
   "id": "414ebf09",
   "metadata": {},
   "outputs": [],
   "source": [
    "def validation(model, criterion, val_loader, device):\n",
    "    model.eval()\n",
    "    val_loss = []\n",
    "    with torch.no_grad():\n",
    "        for imgs, labels in tqdm(iter(val_loader)):\n",
    "            imgs = imgs.float().to(device)\n",
    "            labels = labels.to(device)\n",
    "            \n",
    "            probs = F.sigmoid(model(imgs))\n",
    "            \n",
    "            loss = criterion(probs, labels)\n",
    "\n",
    "            val_loss.append(loss.item())\n",
    "        \n",
    "        _val_loss = np.mean(val_loss)\n",
    "    \n",
    "    return _val_loss"
   ]
  },
  {
   "cell_type": "code",
   "execution_count": 16,
   "id": "aee8be61",
   "metadata": {},
   "outputs": [],
   "source": [
    "optimizer = torch.optim.Adam(params = model.parameters(), lr = CFG[\"LEARNING_RATE\"])\n",
    "scheduler = optim.lr_scheduler.StepLR(optimizer, step_size=2, gamma=0.4)"
   ]
  },
  {
   "cell_type": "code",
   "execution_count": 17,
   "id": "4d2ad760",
   "metadata": {},
   "outputs": [
    {
     "data": {
      "application/json": {
       "ascii": false,
       "bar_format": null,
       "colour": null,
       "elapsed": 0.018634557723999023,
       "initial": 0,
       "n": 0,
       "ncols": null,
       "nrows": null,
       "postfix": null,
       "prefix": "",
       "rate": null,
       "total": 910,
       "unit": "it",
       "unit_divisor": 1000,
       "unit_scale": false
      },
      "application/vnd.jupyter.widget-view+json": {
       "model_id": "d837edecdb324b90bf772764d1db1d84",
       "version_major": 2,
       "version_minor": 0
      },
      "text/plain": [
       "  0%|          | 0/910 [00:00<?, ?it/s]"
      ]
     },
     "metadata": {},
     "output_type": "display_data"
    },
    {
     "data": {
      "application/json": {
       "ascii": false,
       "bar_format": null,
       "colour": null,
       "elapsed": 0.019075632095336914,
       "initial": 0,
       "n": 0,
       "ncols": null,
       "nrows": null,
       "postfix": null,
       "prefix": "",
       "rate": null,
       "total": 1,
       "unit": "it",
       "unit_divisor": 1000,
       "unit_scale": false
      },
      "application/vnd.jupyter.widget-view+json": {
       "model_id": "06da7fa78fb041a6aaf97370e025900f",
       "version_major": 2,
       "version_minor": 0
      },
      "text/plain": [
       "  0%|          | 0/1 [00:00<?, ?it/s]"
      ]
     },
     "metadata": {},
     "output_type": "display_data"
    },
    {
     "name": "stdout",
     "output_type": "stream",
     "text": [
      "Epoch [1], Train Loss : [0.11345] Val Loss : [0.02672]\n"
     ]
    },
    {
     "data": {
      "application/json": {
       "ascii": false,
       "bar_format": null,
       "colour": null,
       "elapsed": 0.017554759979248047,
       "initial": 0,
       "n": 0,
       "ncols": null,
       "nrows": null,
       "postfix": null,
       "prefix": "",
       "rate": null,
       "total": 910,
       "unit": "it",
       "unit_divisor": 1000,
       "unit_scale": false
      },
      "application/vnd.jupyter.widget-view+json": {
       "model_id": "e6272877f62e47a1b6fc291d4c9a5514",
       "version_major": 2,
       "version_minor": 0
      },
      "text/plain": [
       "  0%|          | 0/910 [00:00<?, ?it/s]"
      ]
     },
     "metadata": {},
     "output_type": "display_data"
    },
    {
     "data": {
      "application/json": {
       "ascii": false,
       "bar_format": null,
       "colour": null,
       "elapsed": 0.017084360122680664,
       "initial": 0,
       "n": 0,
       "ncols": null,
       "nrows": null,
       "postfix": null,
       "prefix": "",
       "rate": null,
       "total": 1,
       "unit": "it",
       "unit_divisor": 1000,
       "unit_scale": false
      },
      "application/vnd.jupyter.widget-view+json": {
       "model_id": "68719c6fc73146d7b9710197334564ae",
       "version_major": 2,
       "version_minor": 0
      },
      "text/plain": [
       "  0%|          | 0/1 [00:00<?, ?it/s]"
      ]
     },
     "metadata": {},
     "output_type": "display_data"
    },
    {
     "name": "stdout",
     "output_type": "stream",
     "text": [
      "Epoch [2], Train Loss : [0.06107] Val Loss : [0.01860]\n"
     ]
    },
    {
     "data": {
      "application/json": {
       "ascii": false,
       "bar_format": null,
       "colour": null,
       "elapsed": 0.01738905906677246,
       "initial": 0,
       "n": 0,
       "ncols": null,
       "nrows": null,
       "postfix": null,
       "prefix": "",
       "rate": null,
       "total": 910,
       "unit": "it",
       "unit_divisor": 1000,
       "unit_scale": false
      },
      "application/vnd.jupyter.widget-view+json": {
       "model_id": "e59cc7b7c2d64f7a8855fb866264c455",
       "version_major": 2,
       "version_minor": 0
      },
      "text/plain": [
       "  0%|          | 0/910 [00:00<?, ?it/s]"
      ]
     },
     "metadata": {},
     "output_type": "display_data"
    },
    {
     "data": {
      "application/json": {
       "ascii": false,
       "bar_format": null,
       "colour": null,
       "elapsed": 0.017357826232910156,
       "initial": 0,
       "n": 0,
       "ncols": null,
       "nrows": null,
       "postfix": null,
       "prefix": "",
       "rate": null,
       "total": 1,
       "unit": "it",
       "unit_divisor": 1000,
       "unit_scale": false
      },
      "application/vnd.jupyter.widget-view+json": {
       "model_id": "86712e34ae464201a944a38b316c30f8",
       "version_major": 2,
       "version_minor": 0
      },
      "text/plain": [
       "  0%|          | 0/1 [00:00<?, ?it/s]"
      ]
     },
     "metadata": {},
     "output_type": "display_data"
    },
    {
     "name": "stdout",
     "output_type": "stream",
     "text": [
      "Epoch [3], Train Loss : [0.04598] Val Loss : [0.02158]\n"
     ]
    },
    {
     "data": {
      "application/json": {
       "ascii": false,
       "bar_format": null,
       "colour": null,
       "elapsed": 0.016416072845458984,
       "initial": 0,
       "n": 0,
       "ncols": null,
       "nrows": null,
       "postfix": null,
       "prefix": "",
       "rate": null,
       "total": 910,
       "unit": "it",
       "unit_divisor": 1000,
       "unit_scale": false
      },
      "application/vnd.jupyter.widget-view+json": {
       "model_id": "4c650473cc8041fb82e8bf3b90326c1e",
       "version_major": 2,
       "version_minor": 0
      },
      "text/plain": [
       "  0%|          | 0/910 [00:00<?, ?it/s]"
      ]
     },
     "metadata": {},
     "output_type": "display_data"
    },
    {
     "data": {
      "application/json": {
       "ascii": false,
       "bar_format": null,
       "colour": null,
       "elapsed": 0.017293930053710938,
       "initial": 0,
       "n": 0,
       "ncols": null,
       "nrows": null,
       "postfix": null,
       "prefix": "",
       "rate": null,
       "total": 1,
       "unit": "it",
       "unit_divisor": 1000,
       "unit_scale": false
      },
      "application/vnd.jupyter.widget-view+json": {
       "model_id": "1f61eea0c1e642918ded27189aec7ce0",
       "version_major": 2,
       "version_minor": 0
      },
      "text/plain": [
       "  0%|          | 0/1 [00:00<?, ?it/s]"
      ]
     },
     "metadata": {},
     "output_type": "display_data"
    },
    {
     "name": "stdout",
     "output_type": "stream",
     "text": [
      "Epoch [4], Train Loss : [0.04083] Val Loss : [0.01424]\n"
     ]
    },
    {
     "data": {
      "application/json": {
       "ascii": false,
       "bar_format": null,
       "colour": null,
       "elapsed": 0.01638650894165039,
       "initial": 0,
       "n": 0,
       "ncols": null,
       "nrows": null,
       "postfix": null,
       "prefix": "",
       "rate": null,
       "total": 910,
       "unit": "it",
       "unit_divisor": 1000,
       "unit_scale": false
      },
      "application/vnd.jupyter.widget-view+json": {
       "model_id": "bc829bef99c64fcfa5ca9fad5ff196e7",
       "version_major": 2,
       "version_minor": 0
      },
      "text/plain": [
       "  0%|          | 0/910 [00:00<?, ?it/s]"
      ]
     },
     "metadata": {},
     "output_type": "display_data"
    },
    {
     "data": {
      "application/json": {
       "ascii": false,
       "bar_format": null,
       "colour": null,
       "elapsed": 0.017214059829711914,
       "initial": 0,
       "n": 0,
       "ncols": null,
       "nrows": null,
       "postfix": null,
       "prefix": "",
       "rate": null,
       "total": 1,
       "unit": "it",
       "unit_divisor": 1000,
       "unit_scale": false
      },
      "application/vnd.jupyter.widget-view+json": {
       "model_id": "ad32a8b1a37d4385bb20a270a27b9a7b",
       "version_major": 2,
       "version_minor": 0
      },
      "text/plain": [
       "  0%|          | 0/1 [00:00<?, ?it/s]"
      ]
     },
     "metadata": {},
     "output_type": "display_data"
    },
    {
     "name": "stdout",
     "output_type": "stream",
     "text": [
      "Epoch [5], Train Loss : [0.03473] Val Loss : [0.01414]\n"
     ]
    },
    {
     "data": {
      "application/json": {
       "ascii": false,
       "bar_format": null,
       "colour": null,
       "elapsed": 0.01649308204650879,
       "initial": 0,
       "n": 0,
       "ncols": null,
       "nrows": null,
       "postfix": null,
       "prefix": "",
       "rate": null,
       "total": 910,
       "unit": "it",
       "unit_divisor": 1000,
       "unit_scale": false
      },
      "application/vnd.jupyter.widget-view+json": {
       "model_id": "d19ca31a07be43d28eadc25432a1d550",
       "version_major": 2,
       "version_minor": 0
      },
      "text/plain": [
       "  0%|          | 0/910 [00:00<?, ?it/s]"
      ]
     },
     "metadata": {},
     "output_type": "display_data"
    },
    {
     "data": {
      "application/json": {
       "ascii": false,
       "bar_format": null,
       "colour": null,
       "elapsed": 0.017254352569580078,
       "initial": 0,
       "n": 0,
       "ncols": null,
       "nrows": null,
       "postfix": null,
       "prefix": "",
       "rate": null,
       "total": 1,
       "unit": "it",
       "unit_divisor": 1000,
       "unit_scale": false
      },
      "application/vnd.jupyter.widget-view+json": {
       "model_id": "fc0acfbaac1445f8a41a8f36081cd333",
       "version_major": 2,
       "version_minor": 0
      },
      "text/plain": [
       "  0%|          | 0/1 [00:00<?, ?it/s]"
      ]
     },
     "metadata": {},
     "output_type": "display_data"
    },
    {
     "name": "stdout",
     "output_type": "stream",
     "text": [
      "Epoch [6], Train Loss : [0.03251] Val Loss : [0.01515]\n"
     ]
    },
    {
     "data": {
      "application/json": {
       "ascii": false,
       "bar_format": null,
       "colour": null,
       "elapsed": 0.016305923461914062,
       "initial": 0,
       "n": 0,
       "ncols": null,
       "nrows": null,
       "postfix": null,
       "prefix": "",
       "rate": null,
       "total": 910,
       "unit": "it",
       "unit_divisor": 1000,
       "unit_scale": false
      },
      "application/vnd.jupyter.widget-view+json": {
       "model_id": "b98fa7f3505e4e25b97caa0073a2d201",
       "version_major": 2,
       "version_minor": 0
      },
      "text/plain": [
       "  0%|          | 0/910 [00:00<?, ?it/s]"
      ]
     },
     "metadata": {},
     "output_type": "display_data"
    },
    {
     "data": {
      "application/json": {
       "ascii": false,
       "bar_format": null,
       "colour": null,
       "elapsed": 0.01880931854248047,
       "initial": 0,
       "n": 0,
       "ncols": null,
       "nrows": null,
       "postfix": null,
       "prefix": "",
       "rate": null,
       "total": 1,
       "unit": "it",
       "unit_divisor": 1000,
       "unit_scale": false
      },
      "application/vnd.jupyter.widget-view+json": {
       "model_id": "0bd428eb5c2c4df7b508918cb3ca4413",
       "version_major": 2,
       "version_minor": 0
      },
      "text/plain": [
       "  0%|          | 0/1 [00:00<?, ?it/s]"
      ]
     },
     "metadata": {},
     "output_type": "display_data"
    },
    {
     "name": "stdout",
     "output_type": "stream",
     "text": [
      "Epoch [7], Train Loss : [0.02973] Val Loss : [0.01550]\n"
     ]
    }
   ],
   "source": [
    "model = train(model, optimizer, scheduler, train_loader, val_loader, device, CFG[\"EPOCHS\"])"
   ]
  },
  {
   "cell_type": "code",
   "execution_count": 18,
   "id": "8f5508a1",
   "metadata": {},
   "outputs": [],
   "source": [
    "from pytorch_multilabel_balanced_sampler.samplers import RandomClassSampler, ClassCycleSampler, LeastSampledClassSampler\n",
    "\n",
    "sampler1 = RandomClassSampler(labels=torch.tensor(train_labels))\n",
    "sampler2 = ClassCycleSampler(labels=torch.tensor(train_labels))\n",
    "sampler3 = LeastSampledClassSampler(labels=torch.tensor(train_labels))\n",
    "\n",
    "\n",
    "train_loader = DataLoader(train_dataset, batch_size = CFG['BATCH_SIZE'], sampler=sampler3, num_workers=0)"
   ]
  },
  {
   "cell_type": "code",
   "execution_count": 19,
   "id": "d8242230",
   "metadata": {},
   "outputs": [],
   "source": [
    "CFG = {\n",
    "    'IMG_SIZE':224,\n",
    "    'EPOCHS':5,\n",
    "    'LEARNING_RATE':3e-7,\n",
    "    'BATCH_SIZE':168,\n",
    "    'SEED':41\n",
    "}\n",
    "\n",
    "optimizer = torch.optim.Adam(params = model.parameters(), lr = CFG[\"LEARNING_RATE\"])\n",
    "scheduler = optim.lr_scheduler.StepLR(optimizer, step_size=2, gamma=0.3)"
   ]
  },
  {
   "cell_type": "code",
   "execution_count": 20,
   "id": "0364e908",
   "metadata": {},
   "outputs": [
    {
     "data": {
      "application/json": {
       "ascii": false,
       "bar_format": null,
       "colour": null,
       "elapsed": 0.04732465744018555,
       "initial": 0,
       "n": 0,
       "ncols": null,
       "nrows": null,
       "postfix": null,
       "prefix": "",
       "rate": null,
       "total": 910,
       "unit": "it",
       "unit_divisor": 1000,
       "unit_scale": false
      },
      "application/vnd.jupyter.widget-view+json": {
       "model_id": "15fef26bc15e484093b28c397521117a",
       "version_major": 2,
       "version_minor": 0
      },
      "text/plain": [
       "  0%|          | 0/910 [00:00<?, ?it/s]"
      ]
     },
     "metadata": {},
     "output_type": "display_data"
    },
    {
     "data": {
      "application/json": {
       "ascii": false,
       "bar_format": null,
       "colour": null,
       "elapsed": 0.018984556198120117,
       "initial": 0,
       "n": 0,
       "ncols": null,
       "nrows": null,
       "postfix": null,
       "prefix": "",
       "rate": null,
       "total": 1,
       "unit": "it",
       "unit_divisor": 1000,
       "unit_scale": false
      },
      "application/vnd.jupyter.widget-view+json": {
       "model_id": "e760520e1b5f4085b728bed6004688b5",
       "version_major": 2,
       "version_minor": 0
      },
      "text/plain": [
       "  0%|          | 0/1 [00:00<?, ?it/s]"
      ]
     },
     "metadata": {},
     "output_type": "display_data"
    },
    {
     "name": "stdout",
     "output_type": "stream",
     "text": [
      "Epoch [1], Train Loss : [0.02840] Val Loss : [0.01446]\n"
     ]
    },
    {
     "data": {
      "application/json": {
       "ascii": false,
       "bar_format": null,
       "colour": null,
       "elapsed": 0.01721048355102539,
       "initial": 0,
       "n": 0,
       "ncols": null,
       "nrows": null,
       "postfix": null,
       "prefix": "",
       "rate": null,
       "total": 910,
       "unit": "it",
       "unit_divisor": 1000,
       "unit_scale": false
      },
      "application/vnd.jupyter.widget-view+json": {
       "model_id": "9b7152c2443a411d8acafaf82ec22da1",
       "version_major": 2,
       "version_minor": 0
      },
      "text/plain": [
       "  0%|          | 0/910 [00:00<?, ?it/s]"
      ]
     },
     "metadata": {},
     "output_type": "display_data"
    },
    {
     "data": {
      "application/json": {
       "ascii": false,
       "bar_format": null,
       "colour": null,
       "elapsed": 0.017442941665649414,
       "initial": 0,
       "n": 0,
       "ncols": null,
       "nrows": null,
       "postfix": null,
       "prefix": "",
       "rate": null,
       "total": 1,
       "unit": "it",
       "unit_divisor": 1000,
       "unit_scale": false
      },
      "application/vnd.jupyter.widget-view+json": {
       "model_id": "55c0f9df1b444324877014d70880aefd",
       "version_major": 2,
       "version_minor": 0
      },
      "text/plain": [
       "  0%|          | 0/1 [00:00<?, ?it/s]"
      ]
     },
     "metadata": {},
     "output_type": "display_data"
    },
    {
     "name": "stdout",
     "output_type": "stream",
     "text": [
      "Epoch [2], Train Loss : [0.02767] Val Loss : [0.01424]\n"
     ]
    },
    {
     "data": {
      "application/json": {
       "ascii": false,
       "bar_format": null,
       "colour": null,
       "elapsed": 0.01649332046508789,
       "initial": 0,
       "n": 0,
       "ncols": null,
       "nrows": null,
       "postfix": null,
       "prefix": "",
       "rate": null,
       "total": 910,
       "unit": "it",
       "unit_divisor": 1000,
       "unit_scale": false
      },
      "application/vnd.jupyter.widget-view+json": {
       "model_id": "0ee086755a38426ba52e000f2884ec50",
       "version_major": 2,
       "version_minor": 0
      },
      "text/plain": [
       "  0%|          | 0/910 [00:00<?, ?it/s]"
      ]
     },
     "metadata": {},
     "output_type": "display_data"
    },
    {
     "data": {
      "application/json": {
       "ascii": false,
       "bar_format": null,
       "colour": null,
       "elapsed": 0.01896977424621582,
       "initial": 0,
       "n": 0,
       "ncols": null,
       "nrows": null,
       "postfix": null,
       "prefix": "",
       "rate": null,
       "total": 1,
       "unit": "it",
       "unit_divisor": 1000,
       "unit_scale": false
      },
      "application/vnd.jupyter.widget-view+json": {
       "model_id": "f6da1ee1a61b468fbd4683129395cfcf",
       "version_major": 2,
       "version_minor": 0
      },
      "text/plain": [
       "  0%|          | 0/1 [00:00<?, ?it/s]"
      ]
     },
     "metadata": {},
     "output_type": "display_data"
    },
    {
     "name": "stdout",
     "output_type": "stream",
     "text": [
      "Epoch [3], Train Loss : [0.02759] Val Loss : [0.01419]\n"
     ]
    },
    {
     "data": {
      "application/json": {
       "ascii": false,
       "bar_format": null,
       "colour": null,
       "elapsed": 0.017538785934448242,
       "initial": 0,
       "n": 0,
       "ncols": null,
       "nrows": null,
       "postfix": null,
       "prefix": "",
       "rate": null,
       "total": 910,
       "unit": "it",
       "unit_divisor": 1000,
       "unit_scale": false
      },
      "application/vnd.jupyter.widget-view+json": {
       "model_id": "01075b6d67294ce09d4eff04d63425de",
       "version_major": 2,
       "version_minor": 0
      },
      "text/plain": [
       "  0%|          | 0/910 [00:00<?, ?it/s]"
      ]
     },
     "metadata": {},
     "output_type": "display_data"
    },
    {
     "data": {
      "application/json": {
       "ascii": false,
       "bar_format": null,
       "colour": null,
       "elapsed": 0.01763749122619629,
       "initial": 0,
       "n": 0,
       "ncols": null,
       "nrows": null,
       "postfix": null,
       "prefix": "",
       "rate": null,
       "total": 1,
       "unit": "it",
       "unit_divisor": 1000,
       "unit_scale": false
      },
      "application/vnd.jupyter.widget-view+json": {
       "model_id": "a7cab938facf4595925a3bec9b936fbc",
       "version_major": 2,
       "version_minor": 0
      },
      "text/plain": [
       "  0%|          | 0/1 [00:00<?, ?it/s]"
      ]
     },
     "metadata": {},
     "output_type": "display_data"
    },
    {
     "name": "stdout",
     "output_type": "stream",
     "text": [
      "Epoch [4], Train Loss : [0.02699] Val Loss : [0.01415]\n"
     ]
    },
    {
     "data": {
      "application/json": {
       "ascii": false,
       "bar_format": null,
       "colour": null,
       "elapsed": 0.01756143569946289,
       "initial": 0,
       "n": 0,
       "ncols": null,
       "nrows": null,
       "postfix": null,
       "prefix": "",
       "rate": null,
       "total": 910,
       "unit": "it",
       "unit_divisor": 1000,
       "unit_scale": false
      },
      "application/vnd.jupyter.widget-view+json": {
       "model_id": "7e580cbd647649778ea710b7ae145dda",
       "version_major": 2,
       "version_minor": 0
      },
      "text/plain": [
       "  0%|          | 0/910 [00:00<?, ?it/s]"
      ]
     },
     "metadata": {},
     "output_type": "display_data"
    },
    {
     "data": {
      "application/json": {
       "ascii": false,
       "bar_format": null,
       "colour": null,
       "elapsed": 0.01727461814880371,
       "initial": 0,
       "n": 0,
       "ncols": null,
       "nrows": null,
       "postfix": null,
       "prefix": "",
       "rate": null,
       "total": 1,
       "unit": "it",
       "unit_divisor": 1000,
       "unit_scale": false
      },
      "application/vnd.jupyter.widget-view+json": {
       "model_id": "55203c91d1234a48a861c107fefc150d",
       "version_major": 2,
       "version_minor": 0
      },
      "text/plain": [
       "  0%|          | 0/1 [00:00<?, ?it/s]"
      ]
     },
     "metadata": {},
     "output_type": "display_data"
    },
    {
     "name": "stdout",
     "output_type": "stream",
     "text": [
      "Epoch [5], Train Loss : [0.02716] Val Loss : [0.01415]\n"
     ]
    }
   ],
   "source": [
    "infer_model = train(model, optimizer, scheduler, train_loader, val_loader, device, 5)"
   ]
  },
  {
   "cell_type": "code",
   "execution_count": 21,
   "id": "eacd308d",
   "metadata": {},
   "outputs": [
    {
     "data": {
      "application/json": {
       "ascii": false,
       "bar_format": null,
       "colour": null,
       "elapsed": 0.021910905838012695,
       "initial": 0,
       "n": 0,
       "ncols": null,
       "nrows": null,
       "postfix": null,
       "prefix": "",
       "rate": null,
       "total": 260,
       "unit": "it",
       "unit_divisor": 1000,
       "unit_scale": false
      },
      "application/vnd.jupyter.widget-view+json": {
       "model_id": "6e9f478cefc641988ecfd8e8cd232c36",
       "version_major": 2,
       "version_minor": 0
      },
      "text/plain": [
       "  0%|          | 0/260 [00:00<?, ?it/s]"
      ]
     },
     "metadata": {},
     "output_type": "display_data"
    }
   ],
   "source": [
    "test = pd.read_csv('./data/test.csv')\n",
    "test['img_path'] = './data/' + test['img_path']\n",
    "test_dataset = CustomDataset(test['img_path'].values, None, test_transform)\n",
    "test_loader = DataLoader(test_dataset, batch_size = CFG['BATCH_SIZE'], shuffle=False, num_workers=0)\n",
    "def inference(model, test_loader, device):\n",
    "    model.to(device)\n",
    "    model.eval()\n",
    "    predictions = []\n",
    "    with torch.no_grad():\n",
    "        for imgs in tqdm(iter(test_loader)):\n",
    "            imgs = imgs.float().to(device)\n",
    "            \n",
    "            probs = F.sigmoid(model(imgs))\n",
    "\n",
    "            probs  = probs.cpu().detach().numpy()\n",
    "            predictions += probs.tolist()\n",
    "    return predictions\n",
    "preds = inference(infer_model, test_loader, device)"
   ]
  },
  {
   "cell_type": "code",
   "execution_count": 22,
   "id": "1c1406dd",
   "metadata": {},
   "outputs": [
    {
     "data": {
      "text/html": [
       "<div>\n",
       "<style scoped>\n",
       "    .dataframe tbody tr th:only-of-type {\n",
       "        vertical-align: middle;\n",
       "    }\n",
       "\n",
       "    .dataframe tbody tr th {\n",
       "        vertical-align: top;\n",
       "    }\n",
       "\n",
       "    .dataframe thead th {\n",
       "        text-align: right;\n",
       "    }\n",
       "</style>\n",
       "<table border=\"1\" class=\"dataframe\">\n",
       "  <thead>\n",
       "    <tr style=\"text-align: right;\">\n",
       "      <th></th>\n",
       "      <th>img_id</th>\n",
       "      <th>airplane</th>\n",
       "      <th>airport</th>\n",
       "      <th>bare soil</th>\n",
       "      <th>baseball diamond</th>\n",
       "      <th>basketball court</th>\n",
       "      <th>beach</th>\n",
       "      <th>bridge</th>\n",
       "      <th>buildings</th>\n",
       "      <th>cars</th>\n",
       "      <th>...</th>\n",
       "      <th>tanks</th>\n",
       "      <th>tennis court</th>\n",
       "      <th>terrace</th>\n",
       "      <th>track</th>\n",
       "      <th>trail</th>\n",
       "      <th>transmission tower</th>\n",
       "      <th>trees</th>\n",
       "      <th>water</th>\n",
       "      <th>wetland</th>\n",
       "      <th>wind turbine</th>\n",
       "    </tr>\n",
       "  </thead>\n",
       "  <tbody>\n",
       "    <tr>\n",
       "      <th>0</th>\n",
       "      <td>000TT5XV</td>\n",
       "      <td>0.000356</td>\n",
       "      <td>0.000538</td>\n",
       "      <td>0.411074</td>\n",
       "      <td>0.000046</td>\n",
       "      <td>0.000066</td>\n",
       "      <td>0.000286</td>\n",
       "      <td>0.000358</td>\n",
       "      <td>0.975116</td>\n",
       "      <td>0.667865</td>\n",
       "      <td>...</td>\n",
       "      <td>0.000107</td>\n",
       "      <td>0.000277</td>\n",
       "      <td>0.000121</td>\n",
       "      <td>0.000291</td>\n",
       "      <td>0.000169</td>\n",
       "      <td>0.000113</td>\n",
       "      <td>0.000178</td>\n",
       "      <td>0.998692</td>\n",
       "      <td>0.000179</td>\n",
       "      <td>0.000208</td>\n",
       "    </tr>\n",
       "    <tr>\n",
       "      <th>1</th>\n",
       "      <td>0013XXDH</td>\n",
       "      <td>0.000016</td>\n",
       "      <td>0.000025</td>\n",
       "      <td>0.649307</td>\n",
       "      <td>0.000055</td>\n",
       "      <td>0.000049</td>\n",
       "      <td>0.000010</td>\n",
       "      <td>0.000008</td>\n",
       "      <td>0.072333</td>\n",
       "      <td>0.000928</td>\n",
       "      <td>...</td>\n",
       "      <td>0.000032</td>\n",
       "      <td>0.000046</td>\n",
       "      <td>0.000130</td>\n",
       "      <td>0.000091</td>\n",
       "      <td>0.118581</td>\n",
       "      <td>0.000247</td>\n",
       "      <td>0.999043</td>\n",
       "      <td>0.000308</td>\n",
       "      <td>0.000146</td>\n",
       "      <td>0.000022</td>\n",
       "    </tr>\n",
       "    <tr>\n",
       "      <th>2</th>\n",
       "      <td>001Z4YNH</td>\n",
       "      <td>0.000011</td>\n",
       "      <td>0.000038</td>\n",
       "      <td>0.460297</td>\n",
       "      <td>0.000100</td>\n",
       "      <td>0.000439</td>\n",
       "      <td>0.000002</td>\n",
       "      <td>0.000099</td>\n",
       "      <td>0.979958</td>\n",
       "      <td>0.994366</td>\n",
       "      <td>...</td>\n",
       "      <td>0.000337</td>\n",
       "      <td>0.996118</td>\n",
       "      <td>0.000172</td>\n",
       "      <td>0.000598</td>\n",
       "      <td>0.000602</td>\n",
       "      <td>0.000227</td>\n",
       "      <td>0.998075</td>\n",
       "      <td>0.022389</td>\n",
       "      <td>0.000005</td>\n",
       "      <td>0.000008</td>\n",
       "    </tr>\n",
       "    <tr>\n",
       "      <th>3</th>\n",
       "      <td>00297F36</td>\n",
       "      <td>0.000010</td>\n",
       "      <td>0.000024</td>\n",
       "      <td>0.002998</td>\n",
       "      <td>0.000004</td>\n",
       "      <td>0.000302</td>\n",
       "      <td>0.000004</td>\n",
       "      <td>0.000090</td>\n",
       "      <td>0.998055</td>\n",
       "      <td>0.999141</td>\n",
       "      <td>...</td>\n",
       "      <td>0.019483</td>\n",
       "      <td>0.025258</td>\n",
       "      <td>0.060139</td>\n",
       "      <td>0.018632</td>\n",
       "      <td>0.040998</td>\n",
       "      <td>0.013695</td>\n",
       "      <td>0.997529</td>\n",
       "      <td>0.008613</td>\n",
       "      <td>0.000018</td>\n",
       "      <td>0.000011</td>\n",
       "    </tr>\n",
       "    <tr>\n",
       "      <th>4</th>\n",
       "      <td>002GFJL0</td>\n",
       "      <td>0.000180</td>\n",
       "      <td>0.000358</td>\n",
       "      <td>0.949986</td>\n",
       "      <td>0.000140</td>\n",
       "      <td>0.000197</td>\n",
       "      <td>0.000031</td>\n",
       "      <td>0.000350</td>\n",
       "      <td>0.998611</td>\n",
       "      <td>0.776146</td>\n",
       "      <td>...</td>\n",
       "      <td>0.000102</td>\n",
       "      <td>0.000330</td>\n",
       "      <td>0.000110</td>\n",
       "      <td>0.000717</td>\n",
       "      <td>0.000166</td>\n",
       "      <td>0.000146</td>\n",
       "      <td>0.008908</td>\n",
       "      <td>0.997190</td>\n",
       "      <td>0.000058</td>\n",
       "      <td>0.000122</td>\n",
       "    </tr>\n",
       "  </tbody>\n",
       "</table>\n",
       "<p>5 rows × 61 columns</p>\n",
       "</div>"
      ],
      "text/plain": [
       "     img_id  airplane   airport  bare soil  baseball diamond  \\\n",
       "0  000TT5XV  0.000356  0.000538   0.411074          0.000046   \n",
       "1  0013XXDH  0.000016  0.000025   0.649307          0.000055   \n",
       "2  001Z4YNH  0.000011  0.000038   0.460297          0.000100   \n",
       "3  00297F36  0.000010  0.000024   0.002998          0.000004   \n",
       "4  002GFJL0  0.000180  0.000358   0.949986          0.000140   \n",
       "\n",
       "   basketball court     beach    bridge  buildings      cars  ...     tanks  \\\n",
       "0          0.000066  0.000286  0.000358   0.975116  0.667865  ...  0.000107   \n",
       "1          0.000049  0.000010  0.000008   0.072333  0.000928  ...  0.000032   \n",
       "2          0.000439  0.000002  0.000099   0.979958  0.994366  ...  0.000337   \n",
       "3          0.000302  0.000004  0.000090   0.998055  0.999141  ...  0.019483   \n",
       "4          0.000197  0.000031  0.000350   0.998611  0.776146  ...  0.000102   \n",
       "\n",
       "   tennis court   terrace     track     trail  transmission tower     trees  \\\n",
       "0      0.000277  0.000121  0.000291  0.000169            0.000113  0.000178   \n",
       "1      0.000046  0.000130  0.000091  0.118581            0.000247  0.999043   \n",
       "2      0.996118  0.000172  0.000598  0.000602            0.000227  0.998075   \n",
       "3      0.025258  0.060139  0.018632  0.040998            0.013695  0.997529   \n",
       "4      0.000330  0.000110  0.000717  0.000166            0.000146  0.008908   \n",
       "\n",
       "      water   wetland  wind turbine  \n",
       "0  0.998692  0.000179      0.000208  \n",
       "1  0.000308  0.000146      0.000022  \n",
       "2  0.022389  0.000005      0.000008  \n",
       "3  0.008613  0.000018      0.000011  \n",
       "4  0.997190  0.000058      0.000122  \n",
       "\n",
       "[5 rows x 61 columns]"
      ]
     },
     "execution_count": 22,
     "metadata": {},
     "output_type": "execute_result"
    }
   ],
   "source": [
    "submit = pd.read_csv('./data/sample_submission.csv')\n",
    "submit.iloc[:,1:] = preds\n",
    "submit.head()"
   ]
  },
  {
   "cell_type": "code",
   "execution_count": 23,
   "id": "a4ca1b65",
   "metadata": {},
   "outputs": [
    {
     "data": {
      "text/html": [
       "<div>\n",
       "<style scoped>\n",
       "    .dataframe tbody tr th:only-of-type {\n",
       "        vertical-align: middle;\n",
       "    }\n",
       "\n",
       "    .dataframe tbody tr th {\n",
       "        vertical-align: top;\n",
       "    }\n",
       "\n",
       "    .dataframe thead th {\n",
       "        text-align: right;\n",
       "    }\n",
       "</style>\n",
       "<table border=\"1\" class=\"dataframe\">\n",
       "  <thead>\n",
       "    <tr style=\"text-align: right;\">\n",
       "      <th></th>\n",
       "      <th>img_id</th>\n",
       "      <th>airplane</th>\n",
       "      <th>airport</th>\n",
       "      <th>bare soil</th>\n",
       "      <th>baseball diamond</th>\n",
       "      <th>basketball court</th>\n",
       "      <th>beach</th>\n",
       "      <th>bridge</th>\n",
       "      <th>buildings</th>\n",
       "      <th>cars</th>\n",
       "      <th>...</th>\n",
       "      <th>tanks</th>\n",
       "      <th>tennis court</th>\n",
       "      <th>terrace</th>\n",
       "      <th>track</th>\n",
       "      <th>trail</th>\n",
       "      <th>transmission tower</th>\n",
       "      <th>trees</th>\n",
       "      <th>water</th>\n",
       "      <th>wetland</th>\n",
       "      <th>wind turbine</th>\n",
       "    </tr>\n",
       "  </thead>\n",
       "  <tbody>\n",
       "    <tr>\n",
       "      <th>0</th>\n",
       "      <td>000TT5XV</td>\n",
       "      <td>0.000356</td>\n",
       "      <td>0.000538</td>\n",
       "      <td>0.411074</td>\n",
       "      <td>4.575404e-05</td>\n",
       "      <td>0.000066</td>\n",
       "      <td>0.000286</td>\n",
       "      <td>0.000358</td>\n",
       "      <td>0.975116</td>\n",
       "      <td>0.667865</td>\n",
       "      <td>...</td>\n",
       "      <td>0.000107</td>\n",
       "      <td>0.000277</td>\n",
       "      <td>0.000121</td>\n",
       "      <td>0.000291</td>\n",
       "      <td>0.000169</td>\n",
       "      <td>0.000113</td>\n",
       "      <td>0.000178</td>\n",
       "      <td>0.998692</td>\n",
       "      <td>0.000179</td>\n",
       "      <td>0.000208</td>\n",
       "    </tr>\n",
       "    <tr>\n",
       "      <th>1</th>\n",
       "      <td>0013XXDH</td>\n",
       "      <td>0.000016</td>\n",
       "      <td>0.000025</td>\n",
       "      <td>0.649307</td>\n",
       "      <td>5.482760e-05</td>\n",
       "      <td>0.000049</td>\n",
       "      <td>0.000010</td>\n",
       "      <td>0.000008</td>\n",
       "      <td>0.072333</td>\n",
       "      <td>0.000928</td>\n",
       "      <td>...</td>\n",
       "      <td>0.000032</td>\n",
       "      <td>0.000046</td>\n",
       "      <td>0.000130</td>\n",
       "      <td>0.000091</td>\n",
       "      <td>0.118581</td>\n",
       "      <td>0.000247</td>\n",
       "      <td>0.999043</td>\n",
       "      <td>0.000308</td>\n",
       "      <td>0.000146</td>\n",
       "      <td>0.000022</td>\n",
       "    </tr>\n",
       "    <tr>\n",
       "      <th>2</th>\n",
       "      <td>001Z4YNH</td>\n",
       "      <td>0.000011</td>\n",
       "      <td>0.000038</td>\n",
       "      <td>0.460297</td>\n",
       "      <td>9.952870e-05</td>\n",
       "      <td>0.000439</td>\n",
       "      <td>0.000002</td>\n",
       "      <td>0.000099</td>\n",
       "      <td>0.979958</td>\n",
       "      <td>0.994366</td>\n",
       "      <td>...</td>\n",
       "      <td>0.000337</td>\n",
       "      <td>0.996118</td>\n",
       "      <td>0.000172</td>\n",
       "      <td>0.000598</td>\n",
       "      <td>0.000602</td>\n",
       "      <td>0.000227</td>\n",
       "      <td>0.998075</td>\n",
       "      <td>0.022389</td>\n",
       "      <td>0.000005</td>\n",
       "      <td>0.000008</td>\n",
       "    </tr>\n",
       "    <tr>\n",
       "      <th>3</th>\n",
       "      <td>00297F36</td>\n",
       "      <td>0.000010</td>\n",
       "      <td>0.000024</td>\n",
       "      <td>0.002998</td>\n",
       "      <td>3.708972e-06</td>\n",
       "      <td>0.000302</td>\n",
       "      <td>0.000004</td>\n",
       "      <td>0.000090</td>\n",
       "      <td>0.998055</td>\n",
       "      <td>0.999141</td>\n",
       "      <td>...</td>\n",
       "      <td>0.019483</td>\n",
       "      <td>0.025258</td>\n",
       "      <td>0.060139</td>\n",
       "      <td>0.018632</td>\n",
       "      <td>0.040998</td>\n",
       "      <td>0.013695</td>\n",
       "      <td>0.997529</td>\n",
       "      <td>0.008613</td>\n",
       "      <td>0.000018</td>\n",
       "      <td>0.000011</td>\n",
       "    </tr>\n",
       "    <tr>\n",
       "      <th>4</th>\n",
       "      <td>002GFJL0</td>\n",
       "      <td>0.000180</td>\n",
       "      <td>0.000358</td>\n",
       "      <td>0.949986</td>\n",
       "      <td>1.396539e-04</td>\n",
       "      <td>0.000197</td>\n",
       "      <td>0.000031</td>\n",
       "      <td>0.000350</td>\n",
       "      <td>0.998611</td>\n",
       "      <td>0.776146</td>\n",
       "      <td>...</td>\n",
       "      <td>0.000102</td>\n",
       "      <td>0.000330</td>\n",
       "      <td>0.000110</td>\n",
       "      <td>0.000717</td>\n",
       "      <td>0.000166</td>\n",
       "      <td>0.000146</td>\n",
       "      <td>0.008908</td>\n",
       "      <td>0.997190</td>\n",
       "      <td>0.000058</td>\n",
       "      <td>0.000122</td>\n",
       "    </tr>\n",
       "    <tr>\n",
       "      <th>...</th>\n",
       "      <td>...</td>\n",
       "      <td>...</td>\n",
       "      <td>...</td>\n",
       "      <td>...</td>\n",
       "      <td>...</td>\n",
       "      <td>...</td>\n",
       "      <td>...</td>\n",
       "      <td>...</td>\n",
       "      <td>...</td>\n",
       "      <td>...</td>\n",
       "      <td>...</td>\n",
       "      <td>...</td>\n",
       "      <td>...</td>\n",
       "      <td>...</td>\n",
       "      <td>...</td>\n",
       "      <td>...</td>\n",
       "      <td>...</td>\n",
       "      <td>...</td>\n",
       "      <td>...</td>\n",
       "      <td>...</td>\n",
       "      <td>...</td>\n",
       "    </tr>\n",
       "    <tr>\n",
       "      <th>43660</th>\n",
       "      <td>ZZXLYV5U</td>\n",
       "      <td>0.000051</td>\n",
       "      <td>0.000070</td>\n",
       "      <td>0.000975</td>\n",
       "      <td>8.742326e-06</td>\n",
       "      <td>0.000077</td>\n",
       "      <td>0.000119</td>\n",
       "      <td>0.000007</td>\n",
       "      <td>0.000687</td>\n",
       "      <td>0.000438</td>\n",
       "      <td>...</td>\n",
       "      <td>0.000026</td>\n",
       "      <td>0.000047</td>\n",
       "      <td>0.001230</td>\n",
       "      <td>0.000014</td>\n",
       "      <td>0.520924</td>\n",
       "      <td>0.000201</td>\n",
       "      <td>0.487686</td>\n",
       "      <td>0.001613</td>\n",
       "      <td>0.000368</td>\n",
       "      <td>0.000166</td>\n",
       "    </tr>\n",
       "    <tr>\n",
       "      <th>43661</th>\n",
       "      <td>ZZY67M9P</td>\n",
       "      <td>0.001585</td>\n",
       "      <td>0.000538</td>\n",
       "      <td>0.019205</td>\n",
       "      <td>8.619667e-07</td>\n",
       "      <td>0.000084</td>\n",
       "      <td>0.000003</td>\n",
       "      <td>0.000017</td>\n",
       "      <td>0.997372</td>\n",
       "      <td>0.898785</td>\n",
       "      <td>...</td>\n",
       "      <td>0.000016</td>\n",
       "      <td>0.000092</td>\n",
       "      <td>0.000017</td>\n",
       "      <td>0.000040</td>\n",
       "      <td>0.000137</td>\n",
       "      <td>0.000039</td>\n",
       "      <td>0.287496</td>\n",
       "      <td>0.000147</td>\n",
       "      <td>0.000033</td>\n",
       "      <td>0.000002</td>\n",
       "    </tr>\n",
       "    <tr>\n",
       "      <th>43662</th>\n",
       "      <td>ZZYN9M9Y</td>\n",
       "      <td>0.000333</td>\n",
       "      <td>0.000119</td>\n",
       "      <td>0.000831</td>\n",
       "      <td>2.610225e-05</td>\n",
       "      <td>0.000298</td>\n",
       "      <td>0.000097</td>\n",
       "      <td>0.000066</td>\n",
       "      <td>0.000275</td>\n",
       "      <td>0.000426</td>\n",
       "      <td>...</td>\n",
       "      <td>0.000470</td>\n",
       "      <td>0.000243</td>\n",
       "      <td>0.000774</td>\n",
       "      <td>0.000355</td>\n",
       "      <td>0.000885</td>\n",
       "      <td>0.000566</td>\n",
       "      <td>0.001477</td>\n",
       "      <td>0.199824</td>\n",
       "      <td>0.000526</td>\n",
       "      <td>0.000084</td>\n",
       "    </tr>\n",
       "    <tr>\n",
       "      <th>43663</th>\n",
       "      <td>ZZYQ8XEV</td>\n",
       "      <td>0.000009</td>\n",
       "      <td>0.000029</td>\n",
       "      <td>0.990772</td>\n",
       "      <td>9.935920e-01</td>\n",
       "      <td>0.000417</td>\n",
       "      <td>0.000003</td>\n",
       "      <td>0.000082</td>\n",
       "      <td>0.982871</td>\n",
       "      <td>0.045295</td>\n",
       "      <td>...</td>\n",
       "      <td>0.000022</td>\n",
       "      <td>0.000079</td>\n",
       "      <td>0.000032</td>\n",
       "      <td>0.000198</td>\n",
       "      <td>0.000327</td>\n",
       "      <td>0.000183</td>\n",
       "      <td>0.998521</td>\n",
       "      <td>0.000365</td>\n",
       "      <td>0.000007</td>\n",
       "      <td>0.000157</td>\n",
       "    </tr>\n",
       "    <tr>\n",
       "      <th>43664</th>\n",
       "      <td>ZZYR0QE0</td>\n",
       "      <td>0.000006</td>\n",
       "      <td>0.000010</td>\n",
       "      <td>0.150719</td>\n",
       "      <td>2.347525e-06</td>\n",
       "      <td>0.000134</td>\n",
       "      <td>0.000019</td>\n",
       "      <td>0.000338</td>\n",
       "      <td>0.964215</td>\n",
       "      <td>0.998267</td>\n",
       "      <td>...</td>\n",
       "      <td>0.000460</td>\n",
       "      <td>0.000780</td>\n",
       "      <td>0.000974</td>\n",
       "      <td>0.004333</td>\n",
       "      <td>0.945558</td>\n",
       "      <td>0.000593</td>\n",
       "      <td>0.999786</td>\n",
       "      <td>0.693449</td>\n",
       "      <td>0.000119</td>\n",
       "      <td>0.000009</td>\n",
       "    </tr>\n",
       "  </tbody>\n",
       "</table>\n",
       "<p>43665 rows × 61 columns</p>\n",
       "</div>"
      ],
      "text/plain": [
       "         img_id  airplane   airport  bare soil  baseball diamond  \\\n",
       "0      000TT5XV  0.000356  0.000538   0.411074      4.575404e-05   \n",
       "1      0013XXDH  0.000016  0.000025   0.649307      5.482760e-05   \n",
       "2      001Z4YNH  0.000011  0.000038   0.460297      9.952870e-05   \n",
       "3      00297F36  0.000010  0.000024   0.002998      3.708972e-06   \n",
       "4      002GFJL0  0.000180  0.000358   0.949986      1.396539e-04   \n",
       "...         ...       ...       ...        ...               ...   \n",
       "43660  ZZXLYV5U  0.000051  0.000070   0.000975      8.742326e-06   \n",
       "43661  ZZY67M9P  0.001585  0.000538   0.019205      8.619667e-07   \n",
       "43662  ZZYN9M9Y  0.000333  0.000119   0.000831      2.610225e-05   \n",
       "43663  ZZYQ8XEV  0.000009  0.000029   0.990772      9.935920e-01   \n",
       "43664  ZZYR0QE0  0.000006  0.000010   0.150719      2.347525e-06   \n",
       "\n",
       "       basketball court     beach    bridge  buildings      cars  ...  \\\n",
       "0              0.000066  0.000286  0.000358   0.975116  0.667865  ...   \n",
       "1              0.000049  0.000010  0.000008   0.072333  0.000928  ...   \n",
       "2              0.000439  0.000002  0.000099   0.979958  0.994366  ...   \n",
       "3              0.000302  0.000004  0.000090   0.998055  0.999141  ...   \n",
       "4              0.000197  0.000031  0.000350   0.998611  0.776146  ...   \n",
       "...                 ...       ...       ...        ...       ...  ...   \n",
       "43660          0.000077  0.000119  0.000007   0.000687  0.000438  ...   \n",
       "43661          0.000084  0.000003  0.000017   0.997372  0.898785  ...   \n",
       "43662          0.000298  0.000097  0.000066   0.000275  0.000426  ...   \n",
       "43663          0.000417  0.000003  0.000082   0.982871  0.045295  ...   \n",
       "43664          0.000134  0.000019  0.000338   0.964215  0.998267  ...   \n",
       "\n",
       "          tanks  tennis court   terrace     track     trail  \\\n",
       "0      0.000107      0.000277  0.000121  0.000291  0.000169   \n",
       "1      0.000032      0.000046  0.000130  0.000091  0.118581   \n",
       "2      0.000337      0.996118  0.000172  0.000598  0.000602   \n",
       "3      0.019483      0.025258  0.060139  0.018632  0.040998   \n",
       "4      0.000102      0.000330  0.000110  0.000717  0.000166   \n",
       "...         ...           ...       ...       ...       ...   \n",
       "43660  0.000026      0.000047  0.001230  0.000014  0.520924   \n",
       "43661  0.000016      0.000092  0.000017  0.000040  0.000137   \n",
       "43662  0.000470      0.000243  0.000774  0.000355  0.000885   \n",
       "43663  0.000022      0.000079  0.000032  0.000198  0.000327   \n",
       "43664  0.000460      0.000780  0.000974  0.004333  0.945558   \n",
       "\n",
       "       transmission tower     trees     water   wetland  wind turbine  \n",
       "0                0.000113  0.000178  0.998692  0.000179      0.000208  \n",
       "1                0.000247  0.999043  0.000308  0.000146      0.000022  \n",
       "2                0.000227  0.998075  0.022389  0.000005      0.000008  \n",
       "3                0.013695  0.997529  0.008613  0.000018      0.000011  \n",
       "4                0.000146  0.008908  0.997190  0.000058      0.000122  \n",
       "...                   ...       ...       ...       ...           ...  \n",
       "43660            0.000201  0.487686  0.001613  0.000368      0.000166  \n",
       "43661            0.000039  0.287496  0.000147  0.000033      0.000002  \n",
       "43662            0.000566  0.001477  0.199824  0.000526      0.000084  \n",
       "43663            0.000183  0.998521  0.000365  0.000007      0.000157  \n",
       "43664            0.000593  0.999786  0.693449  0.000119      0.000009  \n",
       "\n",
       "[43665 rows x 61 columns]"
      ]
     },
     "execution_count": 23,
     "metadata": {},
     "output_type": "execute_result"
    }
   ],
   "source": [
    "submit"
   ]
  },
  {
   "cell_type": "code",
   "execution_count": 24,
   "id": "1b906935",
   "metadata": {},
   "outputs": [],
   "source": [
    "submit.to_csv('./data/sample_submission_davit_big_jitter_lr_7.csv', index=False)"
   ]
  },
  {
   "cell_type": "code",
   "execution_count": 25,
   "id": "05ca461b",
   "metadata": {},
   "outputs": [],
   "source": [
    "torch.save(infer_model.state_dict(), './data/2023_AICOSS_model_weight_EggTheProtein.pth')"
   ]
  },
  {
   "cell_type": "code",
   "execution_count": null,
   "id": "8de1119b",
   "metadata": {},
   "outputs": [],
   "source": []
  }
 ],
 "metadata": {
  "kernelspec": {
   "display_name": "Python 3 (ipykernel)",
   "language": "python",
   "name": "python3"
  },
  "language_info": {
   "codemirror_mode": {
    "name": "ipython",
    "version": 3
   },
   "file_extension": ".py",
   "mimetype": "text/x-python",
   "name": "python",
   "nbconvert_exporter": "python",
   "pygments_lexer": "ipython3",
   "version": "3.8.10"
  }
 },
 "nbformat": 4,
 "nbformat_minor": 5
}
